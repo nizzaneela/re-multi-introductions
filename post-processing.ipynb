{
 "cells": [
  {
   "cell_type": "code",
   "execution_count": 1,
   "metadata": {},
   "outputs": [],
   "source": [
    "import os\n",
    "import numpy as np\n",
    "import matplotlib.pyplot as plt\n",
    "\n",
    "total_runs = 110000"
   ]
  },
  {
   "cell_type": "markdown",
   "metadata": {},
   "source": [
    "### One-introduction simulation data collation"
   ]
  },
  {
   "cell_type": "code",
   "execution_count": 2,
   "metadata": {},
   "outputs": [
    {
     "name": "stdout",
     "output_type": "stream",
     "text": [
      "One intro results:\n",
      "failure count: 398305\n",
      "AB count:      3422\n",
      "CC count:      144\n"
     ]
    }
   ],
   "source": [
    "def get_int(file_path):\n",
    "    with open(file_path, 'r') as f:\n",
    "        return int(f.readline().split()[0])\n",
    "\n",
    "failure_count = 0\n",
    "AB_count = 0\n",
    "CC_count = 0\n",
    "\n",
    "output_file_path = 'main_one_intro_output.tsv'\n",
    "\n",
    "with open(output_file_path, 'w') as output_file:\n",
    "    # Write a header row (include a newline at the end)\n",
    "    output_file.write('run\\tfailures\\tAB\\tCC\\thash\\n')\n",
    "    \n",
    "    for run in range(total_runs):\n",
    "        # Construct paths for each run's files\n",
    "        dir_path = os.path.join('main_analysis', 'one_intro', str(run))\n",
    "        failures_path = os.path.join(dir_path, 'failures.txt')\n",
    "        ab_path = os.path.join(dir_path, 'AB.txt')\n",
    "        cc_path = os.path.join(dir_path, 'CC.txt')\n",
    "        final_hash_path = os.path.join(dir_path, 'final_tree_hash.txt')\n",
    "        \n",
    "        # Read values from each file\n",
    "        failures = get_int(failures_path)\n",
    "        ab = get_int(ab_path)\n",
    "        cc = get_int(cc_path)\n",
    "        with open(final_hash_path, 'r') as fh:\n",
    "            final_hash = fh.readline().strip()\n",
    "        \n",
    "        # Write to output file: run, failures, AB, CC, final_hash\n",
    "        output_file.write(f'{run}\\t{failures}\\t{ab}\\t{cc}\\t{final_hash}\\n')\n",
    "        \n",
    "        # Update counters\n",
    "        failure_count += failures\n",
    "        AB_count += ab\n",
    "        CC_count += cc\n",
    "\n",
    "print('One intro results:')\n",
    "print(f'failure count: {failure_count}')\n",
    "print(f'AB count:      {AB_count}')\n",
    "print(f'CC count:      {CC_count}')    "
   ]
  },
  {
   "cell_type": "markdown",
   "metadata": {},
   "source": [
    "### Two-introduction simulation data collation"
   ]
  },
  {
   "cell_type": "code",
   "execution_count": 3,
   "metadata": {},
   "outputs": [
    {
     "name": "stdout",
     "output_type": "stream",
     "text": [
      "Two intro results:\n",
      "AB frequencies:\n",
      " [[0.00372727 0.0045     0.00501818 0.00449091 0.00372727 0.0031\n",
      "  0.00198182]\n",
      " [0.00476364 0.0052     0.00533636 0.00479091 0.00397273 0.0031\n",
      "  0.00222727]\n",
      " [0.00511818 0.00504545 0.00508182 0.00530909 0.00450909 0.00367273\n",
      "  0.00247273]\n",
      " [0.00480909 0.0047     0.00532727 0.00509091 0.00450909 0.00366364\n",
      "  0.00280909]\n",
      " [0.00356364 0.00463636 0.00438182 0.00439091 0.00388182 0.00355455\n",
      "  0.00272727]\n",
      " [0.00292727 0.00366364 0.00345455 0.00361818 0.00358182 0.00308182\n",
      "  0.00293636]\n",
      " [0.00194545 0.00257273 0.00247273 0.00286364 0.00292727 0.00261818\n",
      "  0.00232727]]\n",
      "CC frequencies:\n",
      " [[0.00382727 0.005      0.00646364 0.00625455 0.00579091 0.0049\n",
      "  0.00366364]\n",
      " [0.00553636 0.00796364 0.00969091 0.01022727 0.00938182 0.00788182\n",
      "  0.00608182]\n",
      " [0.00669091 0.00971818 0.01251818 0.01359091 0.01227273 0.01142727\n",
      "  0.00961818]\n",
      " [0.00651818 0.01028182 0.01389091 0.01589091 0.0164     0.01524545\n",
      "  0.01276364]\n",
      " [0.00633636 0.00911818 0.01347273 0.01634545 0.01800909 0.01800909\n",
      "  0.01609091]\n",
      " [0.00490909 0.00803636 0.01149091 0.01521818 0.01853636 0.02063636\n",
      "  0.01998182]\n",
      " [0.00417273 0.00624545 0.0093     0.01357273 0.01732727 0.01973636\n",
      "  0.02158182]]\n",
      "Max. AB frequency: 0.0053363636363636365\n",
      "Max. CC frequency: 0.02158181818181818\n"
     ]
    }
   ],
   "source": [
    "# We'll accumulate AB and CC across runs in 2D arrays\n",
    "AB_sum_array = None\n",
    "CC_sum_array = None\n",
    "\n",
    "output_file_path = 'main_two_intro_output.tsv'\n",
    "\n",
    "with open(output_file_path, 'w') as output_file:\n",
    "    output_file.write('run\\tAB_nonzero\\tCC_nonzero\\thash\\n')\n",
    "    \n",
    "    for run in range(total_runs):\n",
    "        dir_path = os.path.join('main_analysis', 'two_intro', str(run))\n",
    "        ab_path = os.path.join(dir_path, 'AB_array.csv')\n",
    "        cc_path = os.path.join(dir_path, 'CC_array.csv')\n",
    "        final_hash_path = os.path.join(dir_path, 'final_tree_hash.txt')\n",
    "\n",
    "        AB = np.loadtxt(ab_path, delimiter=\",\")  \n",
    "        CC = np.loadtxt(cc_path, delimiter=\",\")\n",
    "        with open(final_hash_path, 'r') as f:\n",
    "            final_hash = f.readline().strip()\n",
    "        \n",
    "        # Get the indices of non-zero entries (just for logging)\n",
    "        AB_nonzero = np.nonzero(AB)\n",
    "        CC_nonzero = np.nonzero(CC)\n",
    "        AB_nonzero_pairs_str = \",\".join(f\"({r},{c})\" for r,c in zip(*AB_nonzero))\n",
    "        CC_nonzero_pairs_str = \",\".join(f\"({r},{c})\" for r,c in zip(*CC_nonzero))\n",
    "        output_file.write(f'{run}\\t{AB_nonzero_pairs_str}\\t{CC_nonzero_pairs_str}\\t{final_hash}\\n')\n",
    "        \n",
    "        # Initialize our accumulators on the first valid run\n",
    "        if AB_sum_array is None:\n",
    "            AB_sum_array = np.zeros_like(AB)\n",
    "            CC_sum_array = np.zeros_like(CC)\n",
    "        \n",
    "        # Accumulate (element-wise sum) across all runs\n",
    "        AB_sum_array += AB\n",
    "        CC_sum_array += CC\n",
    "\n",
    "# Now print the final 2D sums\n",
    "print('Two intro results:')\n",
    "print(\"AB frequencies:\\n\", AB_sum_array/total_runs)\n",
    "print(\"CC frequencies:\\n\", CC_sum_array/total_runs)\n",
    "print(\"Max. AB frequency:\", np.max(AB_sum_array/total_runs))\n",
    "print(\"Max. CC frequency:\", np.max(CC_sum_array/total_runs))\n"
   ]
  },
  {
   "cell_type": "markdown",
   "metadata": {},
   "source": [
    "### Two-introduction likelihood plots"
   ]
  },
  {
   "cell_type": "code",
   "execution_count": 104,
   "metadata": {},
   "outputs": [],
   "source": [
    "import numpy as np\n",
    "import matplotlib.pyplot as plt\n",
    "from matplotlib.colors import LinearSegmentedColormap\n",
    "\n",
    "\n",
    "def surface_plot_two(data1, title1, data2, title2, legend, filename,\n",
    "                     interp_method='bilinear', sensitivity_range=None):\n",
    "    \"\"\"\n",
    "    Plots two heatmaps side by side with a shared colorbar.\n",
    "    \n",
    "    Parameters:\n",
    "      - data1, data2: 2D numpy arrays with data defined at the coordinates \n",
    "                      {0,5,10,15,20,25,30}.\n",
    "      - title1, title2: Titles for each subplot.\n",
    "      - legend: Label for the colorbar.\n",
    "      - filename: Base name for saving the output files.\n",
    "      - interp_method: Interpolation method for imshow (default 'bilinear').\n",
    "      - sensitivity_range: Optional tuple (vmin, vmax) to set a custom color range.\n",
    "    \"\"\"\n",
    "    # Determine vmin and vmax. If sensitivity_range is provided, use it.\n",
    "    if sensitivity_range is None:\n",
    "        vmin = min(data1.min(), data2.min())\n",
    "        vmax = max(data1.max(), data2.max())\n",
    "    else:\n",
    "        vmin, vmax = sensitivity_range\n",
    "\n",
    "    # Data is defined at the points: 0,5,10,15,20,25,30 (7 points in each direction).\n",
    "    # Each cell has width and height 5.\n",
    "    dx = 5\n",
    "    dy = 5\n",
    "    # Setting extent so that pixel centers match the data coordinates.\n",
    "    # With extent = (left, right, bottom, top), imshow places the centers at:\n",
    "    # left+dx/2, left+3*dx/2, ..., right-dx/2.\n",
    "    # To have the first pixel centered at 0 and the last at 30, we use:\n",
    "    extent = (-dx/2, 30 + dx/2, -dy/2, 30 + dy/2)  # (-2.5, 32.5, -2.5, 32.5)\n",
    "\n",
    "    # Create a figure with two subplots side by side.\n",
    "    fig, axs = plt.subplots(1, 2, figsize=(5, 3))\n",
    "    fig.subplots_adjust(top=0.9, bottom=0.1)\n",
    "    \n",
    "\n",
    "    im1 = axs[0].imshow(data1, cmap=\"inferno\", origin='lower', extent=extent,\n",
    "                        vmin=vmin, vmax=vmax, interpolation=interp_method)\n",
    "    im2 = axs[1].imshow(data2, cmap=\"inferno\", origin='lower', extent=extent,\n",
    "                        vmin=vmin, vmax=vmax, interpolation=interp_method)\n",
    "    \n",
    "\n",
    "    ticks = [0, 10, 20, 30]\n",
    "    for ax, title in zip(axs, [title1, title2]):\n",
    "        ax.set_title(title)\n",
    "        ax.set_xlabel(\"$t_x$ (days)\")\n",
    "        ax.set_ylabel(\"$t_y$ (days)\")\n",
    "        ax.set_aspect('equal', adjustable='box')\n",
    "        ax.set_xticks(ticks)\n",
    "        ax.set_yticks(ticks)\n",
    "        ax.set_xlim(0, 30)\n",
    "        ax.set_ylim(0, 30)\n",
    "    \n",
    "    fig.subplots_adjust(wspace=0.4)\n",
    "    \n",
    "    # Create a single shared colorbar.\n",
    "    cbar = fig.colorbar(im1, ax=axs, label=legend, orientation='vertical',shrink=0.55, pad=0.04)\n",
    "    \n",
    "   \n",
    "    # Save the figure.\n",
    "    fig.savefig(f\"{filename}.png\", dpi=600)\n",
    "    fig.savefig(f\"{filename}.ps\", format='ps', dpi=600)\n",
    "    \n",
    "    plt.show()\n",
    "\n"
   ]
  },
  {
   "cell_type": "code",
   "execution_count": 105,
   "metadata": {},
   "outputs": [
    {
     "data": {
      "image/png": "[encoded data removed]",
      "text/plain": [
       "<Figure size 360x216 with 3 Axes>"
      ]
     },
     "metadata": {
      "needs_background": "light"
     },
     "output_type": "display_data"
    }
   ],
   "source": [
    "surface_plot_two(AB_sum_array/total_runs * 100, \"$P(\\\\tau_{1C} \\\\mid I_2)$\", \\\n",
    "                 CC_sum_array/total_runs * 100, \"$P(\\\\tau_{2C} \\\\mid I_2)$\",\\\n",
    "                 \"percentage\", \"two-intro\",\\\n",
    "                sensitivity_range=(0,2.5))"
   ]
  },
  {
   "cell_type": "markdown",
   "metadata": {},
   "source": [
    "### Bayes factor plot"
   ]
  },
  {
   "cell_type": "code",
   "execution_count": 153,
   "metadata": {},
   "outputs": [],
   "source": [
    "import numpy as np\n",
    "import matplotlib.pyplot as plt\n",
    "from matplotlib.colors import LinearSegmentedColormap\n",
    "\n",
    "\n",
    "def surface_plot(data, legend, filename,\n",
    "                     interp_method='bilinear', sensitivity_range=None):\n",
    "    \"\"\"\n",
    "    Plots one heatmaps side by side with a shared colorbar.\n",
    "    \n",
    "    Parameters:\n",
    "      - data1, data2: 2D numpy arrays with data defined at the coordinates \n",
    "                      {0,5,10,15,20,25,30}.\n",
    "      - title1, title2: Titles for each subplot.\n",
    "      - legend: Label for the colorbar.\n",
    "      - filename: Base name for saving the output files.\n",
    "      - interp_method: Interpolation method for imshow (default 'bilinear').\n",
    "      - sensitivity_range: Optional tuple (vmin, vmax) to set a custom color range.\n",
    "    \"\"\"\n",
    "    # Determine vmin and vmax. If sensitivity_range is provided, use it.\n",
    "    if sensitivity_range is None:\n",
    "        vmin = min(data.min(), data.min())\n",
    "        vmax = min(data.max(), data.max())\n",
    "    else:\n",
    "        vmin, vmax = sensitivity_range\n",
    "\n",
    "    # Data is defined at the points: 0,5,10,15,20,25,30 (7 points in each direction).\n",
    "    # Each cell has width and height 5.\n",
    "    dx = 5\n",
    "    dy = 5\n",
    "    # Setting extent so that pixel centers match the data coordinates.\n",
    "    # With extent = (left, right, bottom, top), imshow places the centers at:\n",
    "    # left+dx/2, left+3*dx/2, ..., right-dx/2.\n",
    "    # To have the first pixel centered at 0 and the last at 30, we use:\n",
    "    extent = (-dx/2, 30 + dx/2, -dy/2, 30 + dy/2)  # (-2.5, 32.5, -2.5, 32.5)\n",
    "\n",
    "    # Create a figure with two subplots side by side.\n",
    "    fig, ax = plt.subplots(1, 1, figsize=(5, 3))\n",
    "    fig.subplots_adjust(top=0.9, bottom=0.2)\n",
    "    \n",
    "\n",
    "    im = ax.imshow(data, cmap=\"inferno\", origin='lower', extent=extent,\n",
    "                        vmin=vmin, vmax=vmax, interpolation=interp_method)   \n",
    "\n",
    "    ticks = [0, 10, 20, 30]\n",
    "\n",
    "    ax.set_xlabel(\"$t_x$ (days)\")\n",
    "    ax.set_ylabel(\"$t_y$ (days)\")\n",
    "    ax.set_aspect('equal', adjustable='box')\n",
    "    ax.set_xticks(ticks)\n",
    "    ax.set_yticks(ticks)\n",
    "    ax.set_xlim(0, 30)\n",
    "    ax.set_ylim(0, 30)\n",
    "    \n",
    "   \n",
    "    # Create a single shared colorbar.\n",
    "    cbar = fig.colorbar(im, ax=ax, label=legend, orientation='vertical',shrink=1, pad=0.04)\n",
    "    \n",
    "   \n",
    "    # Save the figure.\n",
    "    fig.savefig(f\"{filename}.png\", dpi=600)\n",
    "    fig.savefig(f\"{filename}.ps\", format='ps', dpi=600)\n",
    "    \n",
    "    plt.show()\n"
   ]
  },
  {
   "cell_type": "code",
   "execution_count": 154,
   "metadata": {},
   "outputs": [
    {
     "data": {
      "image/png": "[encoded data removed]",
      "text/plain": [
       "<Figure size 360x216 with 2 Axes>"
      ]
     },
     "metadata": {
      "needs_background": "light"
     },
     "output_type": "display_data"
    },
    {
     "name": "stdout",
     "output_type": "stream",
     "text": [
      "Max. Bayes factor is 0.24679774030208 at (15, 15) days\n"
     ]
    }
   ],
   "source": [
    "recCA_results = np.array([77.28, 8.18, 10.49, 3.71])/100 # linB, linA, C/C, T/T\n",
    "Z = (AB_sum_array/total_runs * sum(recCA_results[:2]) + CC_sum_array/total_runs * sum(recCA_results[2:]))/\\\n",
    "    (3422/total_runs * sum(recCA_results[:2]) + 144/total_runs * sum(recCA_results[2:]))\n",
    "surface_plot(Z, \"Bayes factor\", \"BF\")\n",
    "\n",
    "print(f\"Max. Bayes factor is {np.max(Z)} \" \\\n",
    "+ f\"at ({np.unravel_index(np.argmax(Z), Z.shape)[0]*5}, {np.unravel_index(np.argmax(Z), Z.shape)[1]*5}) days\")\n"
   ]
  },
  {
   "cell_type": "markdown",
   "metadata": {},
   "source": [
    "### Check for higher Bayes factors as $t_x$ and $t_y$ approach infinity"
   ]
  },
  {
   "cell_type": "code",
   "execution_count": 215,
   "metadata": {},
   "outputs": [
    {
     "name": "stdout",
     "output_type": "stream",
     "text": [
      "Max. CC frequency: 0.024627272727272727\n"
     ]
    }
   ],
   "source": [
    "import treeswift\n",
    "\n",
    "def get_lineages(parent: treeswift.Node):\n",
    "    \"\"\"\n",
    "    Recursively traverse a subtree from 'parent' to count the number of descendent lineages.\n",
    "\n",
    "    :param parent: A node in a TreeSwift tree.\n",
    "    :return: The number of descendent lineages.\n",
    "    \"\"\"\n",
    "    lineages = 0\n",
    "\n",
    "    for child in parent.child_nodes():\n",
    "        if child.is_leaf():\n",
    "            lineages += 1\n",
    "        else:\n",
    "            mutations = np.random.poisson(29903 * 0.00092 * child.get_edge_length())\n",
    "            if mutations > 0:\n",
    "                lineages += 1\n",
    "            else:\n",
    "                lineages += get_lineages(child)\n",
    "\n",
    "    return lineages\n",
    "\n",
    "CC_max_count = 0\n",
    "for run in range(total_runs):\n",
    "    dir_path = os.path.join('main_analysis', 'two_intro', str(run))\n",
    "    # check relative size\n",
    "    size_0 = 0\n",
    "    size_1 = 0\n",
    "    with open(os.path.join(dir_path, \"sample_times.txt\")) as f:\n",
    "        for line in f:\n",
    "            fields = line.split('\\t')\n",
    "            if fields[0].endswith('_0'):\n",
    "                size_0 += 1\n",
    "            elif fields[0].endswith('_1'):\n",
    "                size_1 += 1\n",
    "    if not (0.3 <= size_0/(size_0+size_1) <= 0.7):\n",
    "        continue\n",
    "    # check polytomies\n",
    "    tree = treeswift.read_tree_newick(os.path.join(dir_path, \"final_tree.nwk\"))\n",
    "    leaf_labels = {leaf.get_label() for leaf in tree.traverse_leaves()}\n",
    "    mrca_node = tree.mrca(leaf_labels)\n",
    "    lineages_0 = get_lineages(mrca_node.child_nodes()[0])\n",
    "    if lineages_0 < 100:\n",
    "        continue\n",
    "    lineages_1 = get_lineages(mrca_node.child_nodes()[1])\n",
    "    if lineages_1 < 100:\n",
    "        continue\n",
    "    CC_max_count += 1\n",
    "\n",
    "print(\"Max. CC frequency:\", CC_max_count/total_runs)"
   ]
  },
  {
   "cell_type": "code",
   "execution_count": 217,
   "metadata": {},
   "outputs": [
    {
     "name": "stdout",
     "output_type": "stream",
     "text": [
      "Upper boud for second max. Bayes factor is 0.20491623250205818 \n"
     ]
    }
   ],
   "source": [
    "Zmax = (AB_sum_array[6][6]/total_runs * sum(recCA_results[:2]) + CC_max_count/total_runs * sum(recCA_results[2:]))/\\\n",
    "    (3422/total_runs * sum(recCA_results[:2]) + 144/total_runs * sum(recCA_results[2:]))\n",
    "\n",
    "print(f\"Upper boud for second max. Bayes factor is {Zmax} \")"
   ]
  },
  {
   "cell_type": "code",
   "execution_count": null,
   "metadata": {},
   "outputs": [],
   "source": []
  }
 ],
 "metadata": {
  "kernelspec": {
   "display_name": "Python 3",
   "language": "python",
   "name": "python3"
  },
  "language_info": {
   "codemirror_mode": {
    "name": "ipython",
    "version": 3
   },
   "file_extension": ".py",
   "mimetype": "text/x-python",
   "name": "python",
   "nbconvert_exporter": "python",
   "pygments_lexer": "ipython3",
   "version": "3.6.15"
  }
 },
 "nbformat": 4,
 "nbformat_minor": 2
}
